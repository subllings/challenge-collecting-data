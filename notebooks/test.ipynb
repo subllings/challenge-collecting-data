{
 "cells": [
  {
   "cell_type": "code",
   "execution_count": 1,
   "id": "d0c2beb6",
   "metadata": {},
   "outputs": [
    {
     "ename": "HTTPError",
     "evalue": "403 Client Error: HTTP Forbidden for url: https://www.immoweb.be/en/search/house/for-sale/brussels/province?countries=BE&page=1&orderBy=relevance",
     "output_type": "error",
     "traceback": [
      "\u001b[31m---------------------------------------------------------------------------\u001b[39m",
      "\u001b[31mHTTPError\u001b[39m                                 Traceback (most recent call last)",
      "\u001b[36mCell\u001b[39m\u001b[36m \u001b[39m\u001b[32mIn[1]\u001b[39m\u001b[32m, line 15\u001b[39m\n\u001b[32m      6\u001b[39m headers = {\n\u001b[32m      7\u001b[39m     \u001b[33m\"\u001b[39m\u001b[33mUser-Agent\u001b[39m\u001b[33m\"\u001b[39m: (\n\u001b[32m      8\u001b[39m         \u001b[33m\"\u001b[39m\u001b[33mMozilla/5.0 (Windows NT 10.0; Win64; x64) \u001b[39m\u001b[33m\"\u001b[39m\n\u001b[32m   (...)\u001b[39m\u001b[32m     11\u001b[39m     )\n\u001b[32m     12\u001b[39m }\n\u001b[32m     14\u001b[39m response = requests.get(url, headers=headers)\n\u001b[32m---> \u001b[39m\u001b[32m15\u001b[39m \u001b[43mresponse\u001b[49m\u001b[43m.\u001b[49m\u001b[43mraise_for_status\u001b[49m\u001b[43m(\u001b[49m\u001b[43m)\u001b[49m  \u001b[38;5;66;03m# pour lever une erreur si la requête échoue\u001b[39;00m\n\u001b[32m     17\u001b[39m soup = BeautifulSoup(response.text, \u001b[33m'\u001b[39m\u001b[33mhtml.parser\u001b[39m\u001b[33m'\u001b[39m)\n\u001b[32m     19\u001b[39m \u001b[38;5;66;03m# Extraction des liens dans les annonces (balise <a> avec la classe card__title-link dans article.card--result)\u001b[39;00m\n",
      "\u001b[36mFile \u001b[39m\u001b[32me:\\_SoftEng\\BeCode\\wikipedia_scraper\\.venv\\Lib\\site-packages\\requests\\models.py:1021\u001b[39m, in \u001b[36mResponse.raise_for_status\u001b[39m\u001b[34m(self)\u001b[39m\n\u001b[32m   1016\u001b[39m     http_error_msg = (\n\u001b[32m   1017\u001b[39m         \u001b[33mf\u001b[39m\u001b[33m\"\u001b[39m\u001b[38;5;132;01m{\u001b[39;00m\u001b[38;5;28mself\u001b[39m.status_code\u001b[38;5;132;01m}\u001b[39;00m\u001b[33m Server Error: \u001b[39m\u001b[38;5;132;01m{\u001b[39;00mreason\u001b[38;5;132;01m}\u001b[39;00m\u001b[33m for url: \u001b[39m\u001b[38;5;132;01m{\u001b[39;00m\u001b[38;5;28mself\u001b[39m.url\u001b[38;5;132;01m}\u001b[39;00m\u001b[33m\"\u001b[39m\n\u001b[32m   1018\u001b[39m     )\n\u001b[32m   1020\u001b[39m \u001b[38;5;28;01mif\u001b[39;00m http_error_msg:\n\u001b[32m-> \u001b[39m\u001b[32m1021\u001b[39m     \u001b[38;5;28;01mraise\u001b[39;00m HTTPError(http_error_msg, response=\u001b[38;5;28mself\u001b[39m)\n",
      "\u001b[31mHTTPError\u001b[39m: 403 Client Error: HTTP Forbidden for url: https://www.immoweb.be/en/search/house/for-sale/brussels/province?countries=BE&page=1&orderBy=relevance"
     ]
    }
   ],
   "source": [
    "import requests\n",
    "from bs4 import BeautifulSoup\n",
    "\n",
    "url = \"https://www.immoweb.be/en/search/house/for-sale/brussels/province?countries=BE&page=1&orderBy=relevance\"\n",
    "\n",
    "headers = {\n",
    "    \"User-Agent\": (\n",
    "        \"Mozilla/5.0 (Windows NT 10.0; Win64; x64) \"\n",
    "        \"AppleWebKit/537.36 (KHTML, like Gecko) \"\n",
    "        \"Chrome/115.0.0.0 Safari/537.36\"\n",
    "    )\n",
    "}\n",
    "\n",
    "response = requests.get(url, headers=headers)\n",
    "response.raise_for_status()  # pour lever une erreur si la requête échoue\n",
    "\n",
    "soup = BeautifulSoup(response.text, 'html.parser')\n",
    "\n",
    "# Extraction des liens dans les annonces (balise <a> avec la classe card__title-link dans article.card--result)\n",
    "links = []\n",
    "for article in soup.select(\"article.card--result\"):\n",
    "    a_tag = article.select_one(\"a.card__title-link\")\n",
    "    if a_tag and a_tag.has_attr(\"href\"):\n",
    "        href = a_tag[\"href\"]\n",
    "        # Si c'est un chemin relatif, on complète avec le domaine complet\n",
    "        full_url = href if href.startswith(\"http\") else f\"https://www.immoweb.be{href}\"\n",
    "        links.append(full_url)\n",
    "\n",
    "print(f\"Nombre de liens trouvés : {len(links)}\")\n",
    "print(\"Exemples de liens :\")\n",
    "for link in links[:5]:\n",
    "    print(link)"
   ]
  }
 ],
 "metadata": {
  "kernelspec": {
   "display_name": "Python (.venv)",
   "language": "python",
   "name": ".venv"
  },
  "language_info": {
   "codemirror_mode": {
    "name": "ipython",
    "version": 3
   },
   "file_extension": ".py",
   "mimetype": "text/x-python",
   "name": "python",
   "nbconvert_exporter": "python",
   "pygments_lexer": "ipython3",
   "version": "3.12.10"
  }
 },
 "nbformat": 4,
 "nbformat_minor": 5
}
